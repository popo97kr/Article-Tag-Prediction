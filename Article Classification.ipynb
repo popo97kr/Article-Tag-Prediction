{
 "cells": [
  {
   "cell_type": "markdown",
   "metadata": {},
   "source": [
    "## Data Preprocessing"
   ]
  },
  {
   "cell_type": "code",
   "execution_count": 1,
   "metadata": {},
   "outputs": [],
   "source": [
    "import nltk\n",
    "from nltk.corpus import stopwords\n",
    "from nltk.stem.porter import PorterStemmer\n",
    "from tqdm import tqdm\n",
    "\n",
    "# nltk.download('stopwords')\n",
    "# nltk.download('punkt')"
   ]
  },
  {
   "cell_type": "code",
   "execution_count": 2,
   "metadata": {},
   "outputs": [],
   "source": [
    "def Preprocessing(txt):\n",
    "    txt = str(txt).replace('\\\\',' ')\n",
    "    \n",
    "    #Tokenize\n",
    "    tokens = [word for sentence in nltk.sent_tokenize(txt)\n",
    "              for word in nltk.word_tokenize(sentence)]\n",
    "    \n",
    "\n",
    "    #Removing non Alphabet\n",
    "    tokens = [word for word in tokens if word.isalpha()]\n",
    "    \n",
    "    #Removing Stopwords\n",
    "    stopword = stopwords.words('english')\n",
    "    tokens = [word for word in tokens if word not in stopword]\n",
    "    \n",
    "    #Lowercasing\n",
    "    tokens = [word.lower() for word in tokens]\n",
    "    \n",
    "    #Stemming\n",
    "    stemmer = PorterStemmer()\n",
    "    tokens = [ stemmer.stem(word) for word in tokens]\n",
    "    \n",
    "    return tokens\n",
    "\n",
    "def bigram(tokens):\n",
    "    \n",
    "    bigram =[]\n",
    "    \n",
    "    for i in range(len(tokens) -1):\n",
    "        bigram.append(tokens[i] + \" \" +tokens[i+1])\n",
    "    return bigram"
   ]
  },
  {
   "cell_type": "code",
   "execution_count": 3,
   "metadata": {},
   "outputs": [],
   "source": [
    "import pandas as pd\n",
    "\n",
    "test_data = pd.read_csv('data/test.csv',names = [\"class\",\"title\",\"body\"])\n",
    "train_data = pd.read_csv('data/train.csv',names = [\"class\",\"title\",\"body\"])"
   ]
  },
  {
   "cell_type": "code",
   "execution_count": 4,
   "metadata": {},
   "outputs": [],
   "source": [
    "train_data = train_data.sample(frac=1).reset_index(drop=True)\n",
    "test_data = test_data.sample(frac=1).reset_index(drop=True)"
   ]
  },
  {
   "cell_type": "code",
   "execution_count": 5,
   "metadata": {},
   "outputs": [],
   "source": [
    "train_X, train_Y = [],[]\n",
    "test_X,  test_Y = [],[]"
   ]
  },
  {
   "cell_type": "code",
   "execution_count": 6,
   "metadata": {},
   "outputs": [
    {
     "name": "stderr",
     "output_type": "stream",
     "text": [
      "120000it [06:19, 316.40it/s]\n"
     ]
    }
   ],
   "source": [
    "for i, row in tqdm(train_data.iterrows()):\n",
    "    #print(type(tokenize(row['title'])))\n",
    "    tokens = Preprocessing(row['title']) + bigram(Preprocessing(row['title'])) + Preprocessing(row['body']) + bigram(Preprocessing(row['body']))\n",
    "    #tokens = Preprocessing(row['title']) + Preprocessing(row['body'])\n",
    "    \n",
    "    train_X.append(tokens)\n",
    "    train_Y.append(row['class']-1)"
   ]
  },
  {
   "cell_type": "code",
   "execution_count": 7,
   "metadata": {},
   "outputs": [
    {
     "name": "stderr",
     "output_type": "stream",
     "text": [
      "7600it [00:24, 311.37it/s]\n"
     ]
    }
   ],
   "source": [
    "for i, row in tqdm(test_data.iterrows()):\n",
    "    #print(type(tokenize(row['title'])))\n",
    "    tokens = Preprocessing(row['title']) + bigram(Preprocessing(row['title'])) + Preprocessing(row['body']) +bigram(Preprocessing(row['body']))\n",
    "    #tokens = Preprocessing(row['title']) + Preprocessing(row['body'])\n",
    "    \n",
    "    test_X.append(tokens)\n",
    "    test_Y.append(row['class']-1)"
   ]
  },
  {
   "cell_type": "code",
   "execution_count": 8,
   "metadata": {},
   "outputs": [],
   "source": [
    "import json\n",
    "\n",
    "train_data = {\"train_X\":train_X, \"train_Y\":train_Y }\n",
    "test_data  = {\"test_X\":test_X, \"test_Y\":test_Y}\n",
    "\n",
    "with open('traindata.json','w') as outfile:\n",
    "    json.dump(train_data,outfile,indent=4)\n",
    "\n",
    "with open('testdata.json','w') as outfile:\n",
    "    json.dump(test_data,outfile,indent=4)"
   ]
  },
  {
   "cell_type": "markdown",
   "metadata": {},
   "source": [
    "## Modeling"
   ]
  },
  {
   "cell_type": "code",
   "execution_count": 6,
   "metadata": {},
   "outputs": [],
   "source": [
    "import json\n",
    "\n",
    "with open('traindata.json') as jsonfile:\n",
    "    traindata = json.load(jsonfile)\n",
    "\n",
    "with open('testdata.json') as jsonfile:\n",
    "    testdata = json.load(jsonfile)"
   ]
  },
  {
   "cell_type": "code",
   "execution_count": 7,
   "metadata": {},
   "outputs": [],
   "source": [
    "train_X = traindata['train_X']\n",
    "train_y = traindata['train_Y']\n",
    "\n",
    "test_X = testdata['test_X']\n",
    "test_y = testdata['test_Y']"
   ]
  },
  {
   "cell_type": "code",
   "execution_count": 8,
   "metadata": {},
   "outputs": [
    {
     "name": "stderr",
     "output_type": "stream",
     "text": [
      "Using TensorFlow backend.\n"
     ]
    }
   ],
   "source": [
    "from keras.utils import np_utils\n",
    "\n",
    "train_y=np_utils.to_categorical(train_y, 4)\n",
    "test_y=np_utils.to_categorical(test_y, 4)"
   ]
  },
  {
   "cell_type": "markdown",
   "metadata": {},
   "source": [
    "### 1. one hot encoding"
   ]
  },
  {
   "cell_type": "code",
   "execution_count": 18,
   "metadata": {},
   "outputs": [],
   "source": [
    "X = train_X[:5000] #12만개 x 11만개단어 one hot encoding 메모리 할당불가...\n",
    "y = train_y[:5000]"
   ]
  },
  {
   "cell_type": "code",
   "execution_count": 19,
   "metadata": {},
   "outputs": [
    {
     "data": {
      "text/plain": [
       "101081"
      ]
     },
     "execution_count": 19,
     "metadata": {},
     "output_type": "execute_result"
    }
   ],
   "source": [
    "from keras.preprocessing.text import Tokenizer\n",
    "tokenizer=Tokenizer(num_words=80000)\n",
    "tokenizer.fit_on_texts(X)\n",
    "word_id = tokenizer.word_index\n",
    "len(word_id)"
   ]
  },
  {
   "cell_type": "code",
   "execution_count": 20,
   "metadata": {},
   "outputs": [],
   "source": [
    "from keras.preprocessing import sequence\n",
    "\n",
    "seq=tokenizer.texts_to_sequences(X)"
   ]
  },
  {
   "cell_type": "code",
   "execution_count": 21,
   "metadata": {},
   "outputs": [
    {
     "name": "stderr",
     "output_type": "stream",
     "text": [
      "5000it [00:02, 1717.36it/s]\n"
     ]
    }
   ],
   "source": [
    "import numpy as np\n",
    "x = np.zeros((5000,80000))\n",
    "for n,s in tqdm(enumerate(seq)):\n",
    "    for ss in s: \n",
    "        x[n][s]+=1"
   ]
  },
  {
   "cell_type": "code",
   "execution_count": 198,
   "metadata": {},
   "outputs": [],
   "source": [
    "# train_one_hot = np.zeros((60000,30,2000))\n",
    "# for i,s in tqdm(enumerate(seq)):\n",
    "#     for j,ss in enumerate(s): ##j는30까지\n",
    "#         if ss==0: continue\n",
    "#         train_one_hot[i][j][ss]=1"
   ]
  },
  {
   "cell_type": "code",
   "execution_count": 22,
   "metadata": {},
   "outputs": [],
   "source": [
    "from keras.models import Sequential\n",
    "from keras.layers import Flatten, Dense, Embedding,Dropout\n",
    "model=Sequential()\n",
    "# model.add(Embedding(100000,50,input_length=500))\n",
    "# model.add(Dropout(0.7))\n",
    "# model.add(Flatten())\n",
    "model.add(Dense(10000, input_dim=80000, activation='relu'))\n",
    "model.add(Dense(5000, activation='relu'))\n",
    "model.add(Dense(1000, activation='relu'))\n",
    "model.add(Dense(500, activation='relu'))\n",
    "model.add(Dense(100, activation='relu'))\n",
    "model.add(Dense(4, activation='softmax'))"
   ]
  },
  {
   "cell_type": "code",
   "execution_count": 23,
   "metadata": {},
   "outputs": [
    {
     "name": "stdout",
     "output_type": "stream",
     "text": [
      "Train on 4250 samples, validate on 750 samples\n",
      "Epoch 1/10\n",
      "4250/4250 [==============================] - 21s 5ms/step - loss: 3.4372 - acc: 0.7209 - val_loss: 0.5256 - val_acc: 0.8627\n",
      "Epoch 2/10\n",
      "4250/4250 [==============================] - 20s 5ms/step - loss: 0.3748 - acc: 0.9341 - val_loss: 1.0250 - val_acc: 0.8533\n",
      "Epoch 3/10\n",
      "4250/4250 [==============================] - 19s 5ms/step - loss: 0.1865 - acc: 0.9769 - val_loss: 1.3318 - val_acc: 0.8667\n",
      "Epoch 4/10\n",
      "4250/4250 [==============================] - 19s 4ms/step - loss: 0.1107 - acc: 0.9918 - val_loss: 1.3839 - val_acc: 0.8600\n",
      "Epoch 5/10\n",
      "4250/4250 [==============================] - 19s 4ms/step - loss: 0.0987 - acc: 0.9948 - val_loss: 1.6764 - val_acc: 0.8467\n",
      "Epoch 6/10\n",
      "4250/4250 [==============================] - 19s 4ms/step - loss: 0.0377 - acc: 0.9969 - val_loss: 2.1716 - val_acc: 0.8560\n",
      "Epoch 7/10\n",
      "4250/4250 [==============================] - 19s 4ms/step - loss: 0.0614 - acc: 0.9969 - val_loss: 2.1962 - val_acc: 0.8640\n",
      "Epoch 8/10\n",
      "4250/4250 [==============================] - 19s 4ms/step - loss: 0.0031 - acc: 0.9986 - val_loss: 4.5065 - val_acc: 0.8680\n",
      "Epoch 9/10\n",
      "4250/4250 [==============================] - 19s 4ms/step - loss: 0.0206 - acc: 0.9981 - val_loss: 3.5874 - val_acc: 0.8653\n",
      "Epoch 10/10\n",
      "4250/4250 [==============================] - 19s 5ms/step - loss: 0.0068 - acc: 0.9988 - val_loss: 5.4689 - val_acc: 0.8587\n"
     ]
    }
   ],
   "source": [
    "model.compile(optimizer='rmsprop', loss='categorical_crossentropy', metrics=['acc'])\n",
    "result=model.fit(x, y, epochs=10,batch_size=32, validation_split=0.15)"
   ]
  },
  {
   "cell_type": "code",
   "execution_count": 27,
   "metadata": {},
   "outputs": [
    {
     "data": {
      "text/plain": [
       "<matplotlib.legend.Legend at 0x7f92ba48ed10>"
      ]
     },
     "execution_count": 27,
     "metadata": {},
     "output_type": "execute_result"
    },
    {
     "data": {
      "image/png": "[encoded data removed]",
      "text/plain": [
       "<Figure size 432x288 with 1 Axes>"
      ]
     },
     "metadata": {
      "needs_background": "light"
     },
     "output_type": "display_data"
    }
   ],
   "source": [
    "import matplotlib.pyplot as plt\n",
    "acc=result.history['acc']\n",
    "val_acc=result.history['val_acc']\n",
    "loss=result.history['loss']\n",
    "val_loss=result.history['val_loss']\n",
    "epochs=range(1,len(acc)+1)\n",
    "plt.plot(epochs,acc,label='training acc')\n",
    "plt.plot(epochs,val_acc,label='validation acc')\n",
    "plt.title('training and validation accuracy(One-hot encoding)')\n",
    "plt.legend()\n",
    "# plt.figure()\n",
    "# plt.plot(epochs,loss,label='training loss')\n",
    "# plt.plot(epochs,val_loss,label='validation loss')\n",
    "# plt.title('training and validation loss')\n",
    "# plt.legend()\n",
    "# plt.show()"
   ]
  },
  {
   "cell_type": "code",
   "execution_count": 156,
   "metadata": {},
   "outputs": [
    {
     "name": "stderr",
     "output_type": "stream",
     "text": [
      "2000it [00:00, 2928.34it/s]\n"
     ]
    }
   ],
   "source": [
    "t_X = test_X[:2000] \n",
    "t_y = test_y[:2000]\n",
    "\n",
    "t_seq=tokenizer.texts_to_sequences(t_X)\n",
    "\n",
    "import numpy as np\n",
    "t_x = np.zeros((2000,80000))\n",
    "for n,s in tqdm(enumerate(t_seq)):\n",
    "    for ss in s: \n",
    "        t_x[n][s]+=1"
   ]
  },
  {
   "cell_type": "code",
   "execution_count": 163,
   "metadata": {},
   "outputs": [],
   "source": [
    "predict_y = model.predict(t_x)"
   ]
  },
  {
   "cell_type": "code",
   "execution_count": 172,
   "metadata": {},
   "outputs": [
    {
     "name": "stdout",
     "output_type": "stream",
     "text": [
      "argmax accuracy: 0.8495\n"
     ]
    }
   ],
   "source": [
    "import tensorflow as tf\n",
    "\n",
    "with tf.compat.v1.Session() :\n",
    "    tf.argmax(predict_y,1).eval()\n",
    "    argm = tf.equal(tf.argmax(t_y, 1), tf.argmax(predict_y, 1)) #맞으면 1\n",
    "    print('accuracy:', tf.reduce_mean(tf.cast(argm, tf.float32)).eval()) #평균"
   ]
  },
  {
   "cell_type": "markdown",
   "metadata": {},
   "source": [
    "### 2. Hashing Trick"
   ]
  },
  {
   "cell_type": "code",
   "execution_count": 9,
   "metadata": {},
   "outputs": [
    {
     "data": {
      "text/plain": [
       "1165540"
      ]
     },
     "execution_count": 9,
     "metadata": {},
     "output_type": "execute_result"
    }
   ],
   "source": [
    "from keras.preprocessing.text import Tokenizer\n",
    "tokenizer=Tokenizer(num_words=100000)\n",
    "tokenizer.fit_on_texts(train_X)\n",
    "word_id = tokenizer.word_index\n",
    "len(word_id)"
   ]
  },
  {
   "cell_type": "code",
   "execution_count": 10,
   "metadata": {},
   "outputs": [
    {
     "name": "stderr",
     "output_type": "stream",
     "text": [
      "100%|██████████| 120000/120000 [00:02<00:00, 58368.98it/s]\n",
      "100%|██████████| 7600/7600 [00:00<00:00, 58580.10it/s]\n"
     ]
    }
   ],
   "source": [
    "def make_dictionary(data):\n",
    "    dictionary_list = []\n",
    "    for sentence in tqdm(data):\n",
    "        dic = dict()\n",
    "        for word in sentence:\n",
    "            try:\n",
    "                dic[word] += 1\n",
    "            except:\n",
    "                dic[word] = 1\n",
    "        dictionary_list.append(dic)\n",
    "    return dictionary_list\n",
    "    \n",
    "train_dict = make_dictionary(traindata['train_X'])\n",
    "test_dict = make_dictionary(testdata['test_X'])"
   ]
  },
  {
   "cell_type": "code",
   "execution_count": 11,
   "metadata": {},
   "outputs": [
    {
     "data": {
      "text/plain": [
       "FeatureHasher(alternate_sign=True, dtype=<class 'numpy.float64'>,\n",
       "              input_type='dict', n_features=100000)"
      ]
     },
     "execution_count": 11,
     "metadata": {},
     "output_type": "execute_result"
    }
   ],
   "source": [
    "from sklearn.feature_extraction import FeatureHasher\n",
    "\n",
    "Hasher = FeatureHasher(n_features = 100000) #n_features=len(word_id) 1165541\n",
    "Hasher.fit(train_dict)"
   ]
  },
  {
   "cell_type": "code",
   "execution_count": 12,
   "metadata": {},
   "outputs": [],
   "source": [
    "H=Hasher.transform(train_dict)"
   ]
  },
  {
   "cell_type": "code",
   "execution_count": 13,
   "metadata": {},
   "outputs": [
    {
     "data": {
      "text/plain": [
       "(120000, 100000)"
      ]
     },
     "execution_count": 13,
     "metadata": {},
     "output_type": "execute_result"
    }
   ],
   "source": [
    "H.shape \n",
    "#one-hot encoding은 120000개x100000단어 메모리 지원 X - 5000개로자름\n",
    "#hasher통해선 가능: hashing통해 메모리줄임"
   ]
  },
  {
   "cell_type": "code",
   "execution_count": 14,
   "metadata": {},
   "outputs": [
    {
     "name": "stdout",
     "output_type": "stream",
     "text": [
      "WARNING:tensorflow:Large dropout rate: 0.7 (>0.5). In TensorFlow 2.x, dropout() uses dropout rate instead of keep_prob. Please ensure that this is intended.\n",
      "WARNING:tensorflow:Large dropout rate: 0.7 (>0.5). In TensorFlow 2.x, dropout() uses dropout rate instead of keep_prob. Please ensure that this is intended.\n",
      "WARNING:tensorflow:Large dropout rate: 0.7 (>0.5). In TensorFlow 2.x, dropout() uses dropout rate instead of keep_prob. Please ensure that this is intended.\n"
     ]
    }
   ],
   "source": [
    "from keras.models import Sequential\n",
    "from keras.layers import Flatten, Dense, Embedding,Dropout\n",
    "model_h=Sequential()\n",
    "model_h.add(Dense(1000, input_dim=100000, activation='relu'))\n",
    "model_h.add(Dropout(0.7))\n",
    "model_h.add(Dense(500, activation='relu'))\n",
    "model_h.add(Dropout(0.7)) \n",
    "model_h.add(Dense(100, activation='relu'))\n",
    "model_h.add(Dropout(0.7)) \n",
    "model_h.add(Dense(4, activation='softmax'))"
   ]
  },
  {
   "cell_type": "code",
   "execution_count": 19,
   "metadata": {},
   "outputs": [
    {
     "name": "stdout",
     "output_type": "stream",
     "text": [
      "Train on 102000 samples, validate on 18000 samples\n",
      "Epoch 1/20\n",
      "102000/102000 [==============================] - 105s 1ms/step - loss: 0.5911 - acc: 0.9000 - val_loss: 0.6601 - val_acc: 0.8992\n",
      "Epoch 2/20\n",
      "102000/102000 [==============================] - 105s 1ms/step - loss: 0.6057 - acc: 0.9015 - val_loss: 0.5330 - val_acc: 0.9004\n",
      "Epoch 3/20\n",
      "102000/102000 [==============================] - 123s 1ms/step - loss: 0.6090 - acc: 0.9012 - val_loss: 0.5835 - val_acc: 0.9014\n",
      "Epoch 4/20\n",
      "102000/102000 [==============================] - 176s 2ms/step - loss: 0.6303 - acc: 0.9025 - val_loss: 0.5751 - val_acc: 0.8972\n",
      "Epoch 5/20\n",
      "102000/102000 [==============================] - 179s 2ms/step - loss: 0.6475 - acc: 0.9045 - val_loss: 0.5562 - val_acc: 0.9016\n",
      "Epoch 6/20\n",
      "102000/102000 [==============================] - 180s 2ms/step - loss: 0.6641 - acc: 0.9052 - val_loss: 0.5798 - val_acc: 0.8971\n",
      "Epoch 7/20\n",
      "102000/102000 [==============================] - 179s 2ms/step - loss: 0.6698 - acc: 0.9053 - val_loss: 0.7069 - val_acc: 0.8989\n",
      "Epoch 8/20\n",
      "102000/102000 [==============================] - 180s 2ms/step - loss: 0.6840 - acc: 0.9068 - val_loss: 0.6933 - val_acc: 0.8957\n",
      "Epoch 9/20\n",
      "102000/102000 [==============================] - 166s 2ms/step - loss: 0.7215 - acc: 0.9069 - val_loss: 0.6921 - val_acc: 0.8977\n",
      "Epoch 10/20\n",
      "102000/102000 [==============================] - 107s 1ms/step - loss: 0.7196 - acc: 0.9071 - val_loss: 0.6811 - val_acc: 0.8970\n",
      "Epoch 11/20\n",
      "102000/102000 [==============================] - 104s 1ms/step - loss: 0.7230 - acc: 0.9089 - val_loss: 0.7739 - val_acc: 0.8952\n",
      "Epoch 12/20\n",
      "102000/102000 [==============================] - 102s 1ms/step - loss: 0.7186 - acc: 0.9094 - val_loss: 0.7588 - val_acc: 0.8933\n",
      "Epoch 13/20\n",
      "102000/102000 [==============================] - 105s 1ms/step - loss: 0.7305 - acc: 0.9089 - val_loss: 0.6974 - val_acc: 0.8898\n",
      "Epoch 14/20\n",
      "102000/102000 [==============================] - 105s 1ms/step - loss: 0.7626 - acc: 0.9087 - val_loss: 0.8038 - val_acc: 0.8892\n",
      "Epoch 15/20\n",
      "102000/102000 [==============================] - 104s 1ms/step - loss: 0.7467 - acc: 0.9126 - val_loss: 1.1263 - val_acc: 0.9008\n",
      "Epoch 16/20\n",
      "102000/102000 [==============================] - 104s 1ms/step - loss: 0.7543 - acc: 0.9113 - val_loss: 0.9648 - val_acc: 0.8944\n",
      "Epoch 17/20\n",
      "102000/102000 [==============================] - 105s 1ms/step - loss: 0.7674 - acc: 0.9117 - val_loss: 1.1854 - val_acc: 0.8944\n",
      "Epoch 18/20\n",
      "102000/102000 [==============================] - 106s 1ms/step - loss: 0.7944 - acc: 0.9116 - val_loss: 1.0575 - val_acc: 0.8952\n",
      "Epoch 19/20\n",
      "102000/102000 [==============================] - 106s 1ms/step - loss: 0.7912 - acc: 0.9131 - val_loss: 0.9457 - val_acc: 0.8858\n",
      "Epoch 20/20\n",
      "102000/102000 [==============================] - 107s 1ms/step - loss: 0.7997 - acc: 0.9147 - val_loss: 1.0758 - val_acc: 0.8911\n"
     ]
    }
   ],
   "source": [
    "model_h.compile(optimizer='rmsprop', loss='categorical_crossentropy', metrics=['acc'])\n",
    "result=model_h.fit(H, train_y, epochs=20,batch_size=32, validation_split=0.15)"
   ]
  },
  {
   "cell_type": "code",
   "execution_count": 20,
   "metadata": {},
   "outputs": [
    {
     "data": {
      "text/plain": [
       "Text(0.5, 1.0, 'training and validation accuracy(Hashing)')"
      ]
     },
     "execution_count": 20,
     "metadata": {},
     "output_type": "execute_result"
    },
    {
     "data": {
      "image/png": "[encoded data removed]",
      "text/plain": [
       "<Figure size 432x288 with 1 Axes>"
      ]
     },
     "metadata": {
      "needs_background": "light"
     },
     "output_type": "display_data"
    }
   ],
   "source": [
    "import matplotlib.pyplot as plt\n",
    "acc=result.history['acc']\n",
    "val_acc=result.history['val_acc']\n",
    "loss=result.history['loss']\n",
    "val_loss=result.history['val_loss']\n",
    "epochs=range(1,len(acc)+1)\n",
    "plt.plot(epochs,acc,label='training acc')\n",
    "plt.plot(epochs,val_acc,label='validation acc')\n",
    "plt.title('training and validation accuracy(Hashing)')\n",
    "# plt.legend()\n",
    "# plt.figure()\n",
    "# plt.plot(epochs,loss,label='training loss')\n",
    "# plt.plot(epochs,val_loss,label='validation loss')\n",
    "# plt.title('training and validation loss')\n",
    "# plt.legend()\n",
    "# plt.show()"
   ]
  },
  {
   "cell_type": "code",
   "execution_count": 21,
   "metadata": {},
   "outputs": [],
   "source": [
    "t_H=Hasher.transform(test_dict)"
   ]
  },
  {
   "cell_type": "code",
   "execution_count": 22,
   "metadata": {},
   "outputs": [],
   "source": [
    "predict_yh = model_h.predict(t_H)"
   ]
  },
  {
   "cell_type": "code",
   "execution_count": 27,
   "metadata": {},
   "outputs": [
    {
     "name": "stdout",
     "output_type": "stream",
     "text": [
      "accuracy: 0.8880263\n"
     ]
    }
   ],
   "source": [
    "with tf.compat.v1.Session() :\n",
    "    tf.argmax(predict_yh,1).eval()\n",
    "    argm = tf.equal(tf.argmax(test_y, 1), tf.argmax(predict_yh, 1)) #맞으면 1\n",
    "    print('accuracy:', tf.reduce_mean(tf.cast(argm, tf.float32)).eval()) #평균"
   ]
  },
  {
   "cell_type": "markdown",
   "metadata": {},
   "source": [
    "## 3. Glove\n",
    "bigram은 생략"
   ]
  },
  {
   "cell_type": "markdown",
   "metadata": {},
   "source": [
    "#### Preprocessing"
   ]
  },
  {
   "cell_type": "code",
   "execution_count": 28,
   "metadata": {},
   "outputs": [],
   "source": [
    "import pandas as pd\n",
    "\n",
    "test_data = pd.read_csv('data/test.csv',names = [\"class\",\"title\",\"body\"])\n",
    "train_data = pd.read_csv('data/train.csv',names = [\"class\",\"title\",\"body\"])\n",
    "\n",
    "train_data = train_data.sample(frac=1).reset_index(drop=True)\n",
    "test_data = test_data.sample(frac=1).reset_index(drop=True)"
   ]
  },
  {
   "cell_type": "code",
   "execution_count": 29,
   "metadata": {},
   "outputs": [],
   "source": [
    "gl_train_X, gl_train_Y = [],[]\n",
    "gl_test_X,  gl_test_Y = [],[]"
   ]
  },
  {
   "cell_type": "code",
   "execution_count": 30,
   "metadata": {},
   "outputs": [
    {
     "name": "stderr",
     "output_type": "stream",
     "text": [
      "120000it [03:20, 597.18it/s]\n"
     ]
    }
   ],
   "source": [
    "for i, row in tqdm(train_data.iterrows()):\n",
    "#     tokens = Preprocessing(row['title']) + bigram(Preprocessing(row['title'])) + Preprocessing(row['body']) + bigram(Preprocessing(row['body']))\n",
    "    tokens = Preprocessing(row['title']) + Preprocessing(row['body'])\n",
    "    \n",
    "    gl_train_X.append(tokens)\n",
    "    gl_train_Y.append(row['class']-1)"
   ]
  },
  {
   "cell_type": "code",
   "execution_count": 31,
   "metadata": {},
   "outputs": [
    {
     "name": "stderr",
     "output_type": "stream",
     "text": [
      "7600it [00:12, 601.09it/s]\n"
     ]
    }
   ],
   "source": [
    "for i, row in tqdm(test_data.iterrows()):\n",
    "#     tokens = Preprocessing(row['title']) + bigram(Preprocessing(row['title'])) + Preprocessing(row['body']) +bigram(Preprocessing(row['body']))\n",
    "    tokens = Preprocessing(row['title']) + Preprocessing(row['body'])\n",
    "    \n",
    "    gl_test_X.append(tokens)\n",
    "    gl_test_Y.append(row['class']-1)"
   ]
  },
  {
   "cell_type": "code",
   "execution_count": 32,
   "metadata": {},
   "outputs": [],
   "source": [
    "import json\n",
    "\n",
    "gl_train_data = {\"train_X\":gl_train_X, \"train_Y\":gl_train_Y }\n",
    "gl_test_data  = {\"test_X\":gl_test_X, \"test_Y\":gl_test_Y}\n",
    "\n",
    "with open('gl_traindata.json','w') as outfile:\n",
    "    json.dump(gl_train_data,outfile,indent=4)\n",
    "\n",
    "with open('gl_testdata.json','w') as outfile:\n",
    "    json.dump(gl_test_data,outfile,indent=4)"
   ]
  },
  {
   "cell_type": "markdown",
   "metadata": {},
   "source": [
    "Get Data"
   ]
  },
  {
   "cell_type": "code",
   "execution_count": 1,
   "metadata": {},
   "outputs": [],
   "source": [
    "import json\n",
    "\n",
    "with open('gl_traindata.json') as jsonfile:\n",
    "    gl_traindata = json.load(jsonfile)\n",
    "\n",
    "with open('gl_testdata.json') as jsonfile:\n",
    "    gl_testdata = json.load(jsonfile)"
   ]
  },
  {
   "cell_type": "code",
   "execution_count": 2,
   "metadata": {},
   "outputs": [],
   "source": [
    "train_X = gl_traindata['train_X']\n",
    "train_y = gl_traindata['train_Y']\n",
    "\n",
    "test_X = gl_testdata['test_X']\n",
    "test_y = gl_testdata['test_Y']"
   ]
  },
  {
   "cell_type": "code",
   "execution_count": 3,
   "metadata": {},
   "outputs": [
    {
     "name": "stderr",
     "output_type": "stream",
     "text": [
      "Using TensorFlow backend.\n"
     ]
    }
   ],
   "source": [
    "from keras.utils import np_utils\n",
    "\n",
    "train_y=np_utils.to_categorical(train_y, 4)\n",
    "test_y=np_utils.to_categorical(test_y, 4)"
   ]
  },
  {
   "cell_type": "code",
   "execution_count": 4,
   "metadata": {},
   "outputs": [
    {
     "name": "stdout",
     "output_type": "stream",
     "text": [
      "120000 7600\n"
     ]
    }
   ],
   "source": [
    "print(len(train_X),len(test_X))"
   ]
  },
  {
   "cell_type": "markdown",
   "metadata": {},
   "source": [
    "#### Modeling"
   ]
  },
  {
   "cell_type": "code",
   "execution_count": 5,
   "metadata": {},
   "outputs": [
    {
     "name": "stdout",
     "output_type": "stream",
     "text": [
      "Loaded 400000 word vectors.\n"
     ]
    }
   ],
   "source": [
    "import numpy as np\n",
    "embeddings_index = dict()\n",
    "\n",
    "f = open('glove.6B.300d.txt')\n",
    "\n",
    "for line in f:\n",
    "    values = line.split()\n",
    "    word = values[0]\n",
    "    coefs = np.asarray(values[1:], dtype='float32')\n",
    "    embeddings_index[word] = coefs\n",
    "    \n",
    "f.close()\n",
    "print('Loaded %s word vectors.' % len(embeddings_index))"
   ]
  },
  {
   "cell_type": "code",
   "execution_count": 6,
   "metadata": {},
   "outputs": [
    {
     "data": {
      "text/plain": [
       "400000"
      ]
     },
     "execution_count": 6,
     "metadata": {},
     "output_type": "execute_result"
    }
   ],
   "source": [
    "gl_words = list(embeddings_index.keys())\n",
    "len(gl_words)"
   ]
  },
  {
   "cell_type": "code",
   "execution_count": 7,
   "metadata": {},
   "outputs": [],
   "source": [
    "from keras.preprocessing.text import Tokenizer\n",
    "\n",
    "tokenizer = Tokenizer(num_words = len(gl_words))\n",
    "tokenizer.fit_on_texts(gl_words)"
   ]
  },
  {
   "cell_type": "code",
   "execution_count": 8,
   "metadata": {},
   "outputs": [
    {
     "name": "stdout",
     "output_type": "stream",
     "text": [
      "(400000, 300)\n"
     ]
    }
   ],
   "source": [
    "n = len(gl_words)\n",
    "embedding_matrix = np.zeros((n, 300)) \n",
    "for word, index in tokenizer.word_index.items():\n",
    "    if index > n - 1:\n",
    "        break\n",
    "    else:\n",
    "        embedding_vector = embeddings_index.get(word)\n",
    "        if embedding_vector is not None:\n",
    "            embedding_matrix[index] = embedding_vector\n",
    "print(embedding_matrix.shape)"
   ]
  },
  {
   "cell_type": "code",
   "execution_count": 9,
   "metadata": {},
   "outputs": [
    {
     "data": {
      "text/plain": [
       "(120000, 500)"
      ]
     },
     "execution_count": 9,
     "metadata": {},
     "output_type": "execute_result"
    }
   ],
   "source": [
    "from keras.preprocessing.sequence import pad_sequences\n",
    "\n",
    "maxlen = 500\n",
    "sequences = tokenizer.texts_to_sequences(train_X)\n",
    "data = pad_sequences(sequences, maxlen=maxlen)\n",
    "data.shape"
   ]
  },
  {
   "cell_type": "code",
   "execution_count": 10,
   "metadata": {},
   "outputs": [],
   "source": [
    "from keras.models import Sequential\n",
    "from keras.layers import Flatten, Dense, Embedding, Activation\n",
    "from keras.layers import BatchNormalization,Dropout\n",
    "# from keras.layers import LSTM"
   ]
  },
  {
   "cell_type": "code",
   "execution_count": 43,
   "metadata": {},
   "outputs": [
    {
     "name": "stdout",
     "output_type": "stream",
     "text": [
      "WARNING:tensorflow:Large dropout rate: 0.7 (>0.5). In TensorFlow 2.x, dropout() uses dropout rate instead of keep_prob. Please ensure that this is intended.\n",
      "WARNING:tensorflow:Large dropout rate: 0.7 (>0.5). In TensorFlow 2.x, dropout() uses dropout rate instead of keep_prob. Please ensure that this is intended.\n"
     ]
    }
   ],
   "source": [
    "model_gl=Sequential()\n",
    "model_gl.add(Embedding(n, output_dim=300, input_length=maxlen, weights=[embedding_matrix], trainable=False))\n",
    "model_gl.add(Flatten())\n",
    "model_gl.add(Dropout(0.7))\n",
    "model_gl.add(Dense(500,activation='relu'))\n",
    "model_gl.add(Dropout(0.7))\n",
    "model_gl.add(Dense(100,activation='relu'))\n",
    "model_gl.add(Dropout(0.7))\n",
    "model_gl.add(Dense(100,activation='relu'))\n",
    "model_gl.add(Dropout(0.7))\n",
    "model_gl.add(Dense(4,activation='softmax')) \n",
    "\n",
    "model_gl.compile(loss='categorical_crossentropy', optimizer='adam', metrics=['accuracy'])"
   ]
  },
  {
   "cell_type": "code",
   "execution_count": 44,
   "metadata": {},
   "outputs": [
    {
     "name": "stdout",
     "output_type": "stream",
     "text": [
      "Train on 84000 samples, validate on 36000 samples\n",
      "Epoch 1/20\n",
      "84000/84000 [==============================] - 49s 581us/step - loss: 0.8603 - accuracy: 0.6693 - val_loss: 0.5192 - val_accuracy: 0.8504\n",
      "Epoch 2/20\n",
      "84000/84000 [==============================] - 49s 583us/step - loss: 0.6765 - accuracy: 0.7728 - val_loss: 0.4967 - val_accuracy: 0.8507\n",
      "Epoch 3/20\n",
      "84000/84000 [==============================] - 49s 578us/step - loss: 0.6563 - accuracy: 0.7822 - val_loss: 0.4763 - val_accuracy: 0.8531\n",
      "Epoch 4/20\n",
      "84000/84000 [==============================] - 49s 581us/step - loss: 0.6460 - accuracy: 0.7866 - val_loss: 0.4762 - val_accuracy: 0.8554\n",
      "Epoch 5/20\n",
      "84000/84000 [==============================] - 49s 579us/step - loss: 0.6329 - accuracy: 0.7918 - val_loss: 0.4842 - val_accuracy: 0.8554\n",
      "Epoch 6/20\n",
      "84000/84000 [==============================] - 48s 571us/step - loss: 0.6264 - accuracy: 0.7929 - val_loss: 0.4588 - val_accuracy: 0.8576\n",
      "Epoch 7/20\n",
      "84000/84000 [==============================] - 49s 578us/step - loss: 0.6199 - accuracy: 0.7975 - val_loss: 0.4738 - val_accuracy: 0.8583\n",
      "Epoch 8/20\n",
      "84000/84000 [==============================] - 48s 572us/step - loss: 0.6168 - accuracy: 0.7988 - val_loss: 0.4726 - val_accuracy: 0.8553\n",
      "Epoch 9/20\n",
      "84000/84000 [==============================] - 49s 578us/step - loss: 0.6129 - accuracy: 0.8002 - val_loss: 0.4623 - val_accuracy: 0.8568\n",
      "Epoch 10/20\n",
      "84000/84000 [==============================] - 49s 579us/step - loss: 0.6066 - accuracy: 0.8028 - val_loss: 0.4514 - val_accuracy: 0.8561\n",
      "Epoch 11/20\n",
      "84000/84000 [==============================] - 48s 576us/step - loss: 0.6035 - accuracy: 0.8030 - val_loss: 0.5064 - val_accuracy: 0.8582\n",
      "Epoch 12/20\n",
      "84000/84000 [==============================] - 48s 576us/step - loss: 0.6056 - accuracy: 0.8033 - val_loss: 0.4639 - val_accuracy: 0.8624\n",
      "Epoch 13/20\n",
      "84000/84000 [==============================] - 49s 578us/step - loss: 0.6070 - accuracy: 0.8044 - val_loss: 0.4522 - val_accuracy: 0.8581\n",
      "Epoch 14/20\n",
      "84000/84000 [==============================] - 48s 572us/step - loss: 0.5958 - accuracy: 0.8033 - val_loss: 0.4474 - val_accuracy: 0.8599\n",
      "Epoch 15/20\n",
      "84000/84000 [==============================] - 48s 574us/step - loss: 0.5963 - accuracy: 0.8050 - val_loss: 0.4563 - val_accuracy: 0.8631\n",
      "Epoch 16/20\n",
      "84000/84000 [==============================] - 48s 572us/step - loss: 0.5964 - accuracy: 0.8038 - val_loss: 0.4536 - val_accuracy: 0.8582\n",
      "Epoch 17/20\n",
      "84000/84000 [==============================] - 48s 575us/step - loss: 0.5960 - accuracy: 0.8066 - val_loss: 0.4502 - val_accuracy: 0.8630\n",
      "Epoch 18/20\n",
      "84000/84000 [==============================] - 48s 571us/step - loss: 0.5924 - accuracy: 0.8068 - val_loss: 0.4760 - val_accuracy: 0.8628\n",
      "Epoch 19/20\n",
      "84000/84000 [==============================] - 48s 576us/step - loss: 0.5888 - accuracy: 0.8071 - val_loss: 0.4590 - val_accuracy: 0.8636\n",
      "Epoch 20/20\n",
      "84000/84000 [==============================] - 49s 579us/step - loss: 0.5925 - accuracy: 0.8075 - val_loss: 0.4536 - val_accuracy: 0.8571\n"
     ]
    }
   ],
   "source": [
    "result=model_gl.fit(data, train_y, validation_split=0.3, batch_size=32, epochs = 20)"
   ]
  },
  {
   "cell_type": "code",
   "execution_count": 45,
   "metadata": {},
   "outputs": [
    {
     "data": {
      "image/png": "[encoded data removed]",
      "text/plain": [
       "<Figure size 432x288 with 1 Axes>"
      ]
     },
     "metadata": {
      "needs_background": "light"
     },
     "output_type": "display_data"
    },
    {
     "data": {
      "image/png": "[encoded data removed]",
      "text/plain": [
       "<Figure size 432x288 with 1 Axes>"
      ]
     },
     "metadata": {
      "needs_background": "light"
     },
     "output_type": "display_data"
    }
   ],
   "source": [
    "import matplotlib.pyplot as plt\n",
    "acc=result.history['accuracy']\n",
    "val_acc=result.history['val_accuracy']\n",
    "loss=result.history['loss']\n",
    "val_loss=result.history['val_loss']\n",
    "epochs=range(1,len(acc)+1)\n",
    "plt.plot(epochs,acc,label='training acc')\n",
    "plt.plot(epochs,val_acc,label='validation acc')\n",
    "plt.title('training and validation accuracy (using Glove)')\n",
    "plt.legend()\n",
    "plt.figure()\n",
    "plt.plot(epochs,loss,label='training loss')\n",
    "plt.plot(epochs,val_loss,label='validation loss')\n",
    "plt.title('training and validation loss')\n",
    "plt.legend()\n",
    "plt.show()"
   ]
  },
  {
   "cell_type": "markdown",
   "metadata": {},
   "source": [
    "valid가더크다?!"
   ]
  },
  {
   "cell_type": "code",
   "execution_count": 11,
   "metadata": {},
   "outputs": [],
   "source": [
    "from keras import optimizers"
   ]
  },
  {
   "cell_type": "code",
   "execution_count": 12,
   "metadata": {},
   "outputs": [],
   "source": [
    "def train_and_validate(num_hlayers, dropout, epoch, learnrate):\n",
    "    # from keras.layers import LSTM\n",
    "    model_gl=Sequential()\n",
    "    model_gl.add(Embedding(n, output_dim=300, input_length=maxlen, weights=[embedding_matrix], trainable=False))\n",
    "    model_gl.add(Flatten())\n",
    "    for i in range(num_hlayers): \n",
    "        model_gl.add(Dropout(dropout))\n",
    "        model_gl.add(Dense(int(500/(i+1)),kernel_initializer='he_normal'))\n",
    "        model_gl.add(BatchNormalization())\n",
    "        model_gl.add(Activation('relu'))\n",
    "    model_gl.add(Dense(4,activation='softmax')) \n",
    "    \n",
    "    adam = optimizers.Adam(lr=learnrate)\n",
    "    model_gl.compile(loss='categorical_crossentropy', optimizer=adam, metrics=['accuracy'])\n",
    "    mod = model_gl.fit(data, train_y, validation_split=0.3, batch_size=32, epochs = int(epoch), verbose=0)\n",
    "    \n",
    "    score = max(mod.history['val_accuracy'])\n",
    "    \n",
    "    return score\n",
    "    "
   ]
  },
  {
   "cell_type": "code",
   "execution_count": 13,
   "metadata": {},
   "outputs": [
    {
     "name": "stdout",
     "output_type": "stream",
     "text": [
      "|   iter    |  target   |  dropout  |   epoch   | learnrate | num_hl... |\n",
      "-------------------------------------------------------------------------\n",
      "WARNING:tensorflow:Large dropout rate: 0.637203 (>0.5). In TensorFlow 2.x, dropout() uses dropout rate instead of keep_prob. Please ensure that this is intended.\n",
      "WARNING:tensorflow:Large dropout rate: 0.637203 (>0.5). In TensorFlow 2.x, dropout() uses dropout rate instead of keep_prob. Please ensure that this is intended.\n",
      "| \u001b[0m 1       \u001b[0m | \u001b[0m 0.8793  \u001b[0m | \u001b[0m 0.6372  \u001b[0m | \u001b[0m 24.3    \u001b[0m | \u001b[0m 0.06032 \u001b[0m | \u001b[0m 3.724   \u001b[0m |\n",
      "WARNING:tensorflow:Large dropout rate: 0.605914 (>0.5). In TensorFlow 2.x, dropout() uses dropout rate instead of keep_prob. Please ensure that this is intended.\n",
      "WARNING:tensorflow:Large dropout rate: 0.605914 (>0.5). In TensorFlow 2.x, dropout() uses dropout rate instead of keep_prob. Please ensure that this is intended.\n",
      "WARNING:tensorflow:Large dropout rate: 0.605914 (>0.5). In TensorFlow 2.x, dropout() uses dropout rate instead of keep_prob. Please ensure that this is intended.\n",
      "| \u001b[0m 2       \u001b[0m | \u001b[0m 0.8772  \u001b[0m | \u001b[0m 0.6059  \u001b[0m | \u001b[0m 22.92   \u001b[0m | \u001b[0m 0.04381 \u001b[0m | \u001b[0m 5.459   \u001b[0m |\n",
      "| \u001b[0m 3       \u001b[0m | \u001b[0m 0.8708  \u001b[0m | \u001b[0m 0.7409  \u001b[0m | \u001b[0m 17.67   \u001b[0m | \u001b[0m 0.07919 \u001b[0m | \u001b[0m 3.644   \u001b[0m |\n",
      "| \u001b[0m 4       \u001b[0m | \u001b[0m 0.8211  \u001b[0m | \u001b[0m 0.642   \u001b[0m | \u001b[0m 28.51   \u001b[0m | \u001b[0m 0.007197\u001b[0m | \u001b[0m 1.436   \u001b[0m |\n",
      "| \u001b[0m 5       \u001b[0m | \u001b[0m 0.8787  \u001b[0m | \u001b[0m 0.5051  \u001b[0m | \u001b[0m 26.65   \u001b[0m | \u001b[0m 0.07784 \u001b[0m | \u001b[0m 5.35    \u001b[0m |\n",
      "| \u001b[0m 6       \u001b[0m | \u001b[0m 0.8709  \u001b[0m | \u001b[0m 0.5     \u001b[0m | \u001b[0m 10.0    \u001b[0m | \u001b[0m 0.0001  \u001b[0m | \u001b[0m 1.0     \u001b[0m |\n",
      "| \u001b[0m 7       \u001b[0m | \u001b[0m 0.2516  \u001b[0m | \u001b[0m 0.75    \u001b[0m | \u001b[0m 10.0    \u001b[0m | \u001b[0m 0.1     \u001b[0m | \u001b[0m 6.0     \u001b[0m |\n",
      "| \u001b[0m 8       \u001b[0m | \u001b[0m 0.8717  \u001b[0m | \u001b[0m 0.5     \u001b[0m | \u001b[0m 18.16   \u001b[0m | \u001b[0m 0.0001  \u001b[0m | \u001b[0m 1.0     \u001b[0m |\n",
      "| \u001b[0m 9       \u001b[0m | \u001b[0m 0.7977  \u001b[0m | \u001b[0m 0.75    \u001b[0m | \u001b[0m 30.0    \u001b[0m | \u001b[0m 0.0001  \u001b[0m | \u001b[0m 6.0     \u001b[0m |\n",
      "| \u001b[0m 10      \u001b[0m | \u001b[0m 0.8189  \u001b[0m | \u001b[0m 0.75    \u001b[0m | \u001b[0m 13.71   \u001b[0m | \u001b[0m 0.1     \u001b[0m | \u001b[0m 1.0     \u001b[0m |\n",
      "| \u001b[0m 11      \u001b[0m | \u001b[0m 0.8202  \u001b[0m | \u001b[0m 0.5     \u001b[0m | \u001b[0m 23.06   \u001b[0m | \u001b[0m 0.1     \u001b[0m | \u001b[0m 1.0     \u001b[0m |\n",
      "| \u001b[0m 12      \u001b[0m | \u001b[0m 0.8783  \u001b[0m | \u001b[0m 0.5     \u001b[0m | \u001b[0m 20.33   \u001b[0m | \u001b[0m 0.1     \u001b[0m | \u001b[0m 3.507   \u001b[0m |\n",
      "| \u001b[95m 13      \u001b[0m | \u001b[95m 0.8817  \u001b[0m | \u001b[95m 0.5     \u001b[0m | \u001b[95m 19.13   \u001b[0m | \u001b[95m 0.0001  \u001b[0m | \u001b[95m 6.0     \u001b[0m |\n",
      "| \u001b[0m 14      \u001b[0m | \u001b[0m 0.8714  \u001b[0m | \u001b[0m 0.75    \u001b[0m | \u001b[0m 20.36   \u001b[0m | \u001b[0m 0.0001  \u001b[0m | \u001b[0m 6.0     \u001b[0m |\n",
      "| \u001b[95m 15      \u001b[0m | \u001b[95m 0.8822  \u001b[0m | \u001b[95m 0.5111  \u001b[0m | \u001b[95m 27.07   \u001b[0m | \u001b[95m 0.01959 \u001b[0m | \u001b[95m 3.65    \u001b[0m |\n",
      "=========================================================================\n",
      "Iteration 0: \n",
      "\t{'target': 0.879277765750885, 'params': {'dropout': 0.6372033759818312, 'epoch': 24.30378732744839, 'learnrate': 0.06031606126955723, 'num_hlayers': 3.724415914984484}}\n",
      "Iteration 1: \n",
      "\t{'target': 0.8771666884422302, 'params': {'dropout': 0.6059136998347262, 'epoch': 22.917882261333123, 'learnrate': 0.04381496240514299, 'num_hlayers': 5.4588650039103985}}\n",
      "Iteration 2: \n",
      "\t{'target': 0.8707500100135803, 'params': {'dropout': 0.7409156901252574, 'epoch': 17.668830376515555, 'learnrate': 0.0791933313044582, 'num_hlayers': 3.644474598764522}}\n",
      "Iteration 3: \n",
      "\t{'target': 0.82105553150177, 'params': {'dropout': 0.642011140273483, 'epoch': 28.51193276585322, 'learnrate': 0.0071965022139689055, 'num_hlayers': 1.4356464985077035}}\n",
      "Iteration 4: \n",
      "\t{'target': 0.8787222504615784, 'params': {'dropout': 0.5050545993600815, 'epoch': 26.65239691095876, 'learnrate': 0.07783785941989006, 'num_hlayers': 5.3500607412340955}}\n",
      "Iteration 5: \n",
      "\t{'target': 0.8709166646003723, 'params': {'dropout': 0.5, 'epoch': 10.0, 'learnrate': 0.0001, 'num_hlayers': 1.0}}\n",
      "Iteration 6: \n",
      "\t{'target': 0.2516111135482788, 'params': {'dropout': 0.75, 'epoch': 10.0, 'learnrate': 0.1, 'num_hlayers': 6.0}}\n",
      "Iteration 7: \n",
      "\t{'target': 0.871749997138977, 'params': {'dropout': 0.5, 'epoch': 18.16007396185306, 'learnrate': 0.0001, 'num_hlayers': 1.0}}\n",
      "Iteration 8: \n",
      "\t{'target': 0.7976666688919067, 'params': {'dropout': 0.75, 'epoch': 30.0, 'learnrate': 0.0001, 'num_hlayers': 6.0}}\n",
      "Iteration 9: \n",
      "\t{'target': 0.8188889026641846, 'params': {'dropout': 0.75, 'epoch': 13.71028001183986, 'learnrate': 0.1, 'num_hlayers': 1.0}}\n",
      "Iteration 10: \n",
      "\t{'target': 0.8201944231987, 'params': {'dropout': 0.5, 'epoch': 23.063744656527387, 'learnrate': 0.1, 'num_hlayers': 1.0}}\n",
      "Iteration 11: \n",
      "\t{'target': 0.878250002861023, 'params': {'dropout': 0.5, 'epoch': 20.33029679065648, 'learnrate': 0.1, 'num_hlayers': 3.5071326287602633}}\n",
      "Iteration 12: \n",
      "\t{'target': 0.8816944360733032, 'params': {'dropout': 0.5, 'epoch': 19.127755065751522, 'learnrate': 0.0001, 'num_hlayers': 6.0}}\n",
      "Iteration 13: \n",
      "\t{'target': 0.8714444637298584, 'params': {'dropout': 0.75, 'epoch': 20.361000914111642, 'learnrate': 0.0001, 'num_hlayers': 5.9999999996440385}}\n",
      "Iteration 14: \n",
      "\t{'target': 0.8821666836738586, 'params': {'dropout': 0.5110835031072389, 'epoch': 27.07165241089702, 'learnrate': 0.01958542869578066, 'num_hlayers': 3.650421774107925}}\n",
      "\n",
      "\n",
      "Final result:  {'target': 0.8821666836738586, 'params': {'dropout': 0.5110835031072389, 'epoch': 27.07165241089702, 'learnrate': 0.01958542869578066, 'num_hlayers': 3.650421774107925}}\n"
     ]
    }
   ],
   "source": [
    "from bayes_opt import BayesianOptimization\n",
    "\n",
    "pb={'num_hlayers':(1,6),\n",
    "    'dropout':(0.5,0.75),\n",
    "    'epoch':(10,30),\n",
    "    'learnrate':(1e-4, 1e-1)}\n",
    "\n",
    "optimizer = BayesianOptimization(\n",
    "    f=train_and_validate,\n",
    "    pbounds=pb,\n",
    "    random_state=0,\n",
    "    verbose=2\n",
    ")\n",
    "\n",
    "optimizer.maximize(init_points=5,n_iter=10)\n",
    "\n",
    "for i,res in enumerate(optimizer.res):\n",
    "    print('Iteration {}: \\n\\t{}'.format(i,res))\n",
    "print()\n",
    "print()\n",
    "print('Final result: ',optimizer.max)"
   ]
  },
  {
   "cell_type": "markdown",
   "metadata": {},
   "source": [
    "'dropout': 0.5, 'epoch': 27, 'learnrate': 0.0195, 'num_hlayers': 3"
   ]
  },
  {
   "cell_type": "code",
   "execution_count": 19,
   "metadata": {},
   "outputs": [],
   "source": [
    "#Apply\n",
    "model_gl=Sequential()\n",
    "model_gl.add(Embedding(n, output_dim=300, input_length=maxlen, weights=[embedding_matrix], trainable=False))\n",
    "model_gl.add(Flatten())\n",
    "for i in range(3): \n",
    "    model_gl.add(Dropout(0.6)) #overfitting 방지\n",
    "    model_gl.add(Dense(int(500/(i+1)),kernel_initializer='he_normal'))\n",
    "    model_gl.add(BatchNormalization())\n",
    "    model_gl.add(Activation('relu'))\n",
    "model_gl.add(Dense(4,activation='softmax')) \n",
    "\n",
    "adam = optimizers.Adam(lr=0.0195)\n",
    "model_gl.compile(loss='categorical_crossentropy', optimizer=adam, metrics=['accuracy'])"
   ]
  },
  {
   "cell_type": "code",
   "execution_count": 20,
   "metadata": {},
   "outputs": [
    {
     "name": "stdout",
     "output_type": "stream",
     "text": [
      "Train on 84000 samples, validate on 36000 samples\n",
      "Epoch 1/27\n",
      "84000/84000 [==============================] - 59s 697us/step - loss: 0.6049 - accuracy: 0.7822 - val_loss: 0.4176 - val_accuracy: 0.8610\n",
      "Epoch 2/27\n",
      "84000/84000 [==============================] - 57s 675us/step - loss: 0.5188 - accuracy: 0.8156 - val_loss: 0.3922 - val_accuracy: 0.8662\n",
      "Epoch 3/27\n",
      "84000/84000 [==============================] - 58s 686us/step - loss: 0.4956 - accuracy: 0.8218 - val_loss: 0.3780 - val_accuracy: 0.8684\n",
      "Epoch 4/27\n",
      "84000/84000 [==============================] - 58s 693us/step - loss: 0.4770 - accuracy: 0.8284 - val_loss: 0.3838 - val_accuracy: 0.8661\n",
      "Epoch 5/27\n",
      "84000/84000 [==============================] - 58s 686us/step - loss: 0.4579 - accuracy: 0.8342 - val_loss: 0.3632 - val_accuracy: 0.8725\n",
      "Epoch 6/27\n",
      "84000/84000 [==============================] - 57s 681us/step - loss: 0.4478 - accuracy: 0.8373 - val_loss: 0.3655 - val_accuracy: 0.8715\n",
      "Epoch 7/27\n",
      "84000/84000 [==============================] - 58s 685us/step - loss: 0.4347 - accuracy: 0.8426 - val_loss: 0.3599 - val_accuracy: 0.8723\n",
      "Epoch 8/27\n",
      "84000/84000 [==============================] - 58s 690us/step - loss: 0.4215 - accuracy: 0.8463 - val_loss: 0.3654 - val_accuracy: 0.8736\n",
      "Epoch 9/27\n",
      "84000/84000 [==============================] - 58s 688us/step - loss: 0.4151 - accuracy: 0.8504 - val_loss: 0.3646 - val_accuracy: 0.8746\n",
      "Epoch 10/27\n",
      "84000/84000 [==============================] - 58s 690us/step - loss: 0.4020 - accuracy: 0.8541 - val_loss: 0.3553 - val_accuracy: 0.8768\n",
      "Epoch 11/27\n",
      "84000/84000 [==============================] - 58s 685us/step - loss: 0.3984 - accuracy: 0.8564 - val_loss: 0.3522 - val_accuracy: 0.8772\n",
      "Epoch 12/27\n",
      "84000/84000 [==============================] - 58s 688us/step - loss: 0.3901 - accuracy: 0.8593 - val_loss: 0.3633 - val_accuracy: 0.8756\n",
      "Epoch 13/27\n",
      "84000/84000 [==============================] - 58s 694us/step - loss: 0.3814 - accuracy: 0.8629 - val_loss: 0.3534 - val_accuracy: 0.8770\n",
      "Epoch 14/27\n",
      "84000/84000 [==============================] - 58s 687us/step - loss: 0.3727 - accuracy: 0.8652 - val_loss: 0.3513 - val_accuracy: 0.8769\n",
      "Epoch 15/27\n",
      "84000/84000 [==============================] - 58s 690us/step - loss: 0.3705 - accuracy: 0.8659 - val_loss: 0.3460 - val_accuracy: 0.8793\n",
      "Epoch 16/27\n",
      "84000/84000 [==============================] - 58s 688us/step - loss: 0.3655 - accuracy: 0.8672 - val_loss: 0.3539 - val_accuracy: 0.8787\n",
      "Epoch 17/27\n",
      "84000/84000 [==============================] - 57s 681us/step - loss: 0.3555 - accuracy: 0.8705 - val_loss: 0.3536 - val_accuracy: 0.8778\n",
      "Epoch 18/27\n",
      "84000/84000 [==============================] - 58s 693us/step - loss: 0.3520 - accuracy: 0.8729 - val_loss: 0.3456 - val_accuracy: 0.8804\n",
      "Epoch 19/27\n",
      "84000/84000 [==============================] - 58s 696us/step - loss: 0.3460 - accuracy: 0.8751 - val_loss: 0.3475 - val_accuracy: 0.8798\n",
      "Epoch 20/27\n",
      "84000/84000 [==============================] - 58s 688us/step - loss: 0.3420 - accuracy: 0.8761 - val_loss: 0.3475 - val_accuracy: 0.8794\n",
      "Epoch 21/27\n",
      "84000/84000 [==============================] - 58s 686us/step - loss: 0.3401 - accuracy: 0.8770 - val_loss: 0.3454 - val_accuracy: 0.8806\n",
      "Epoch 22/27\n",
      "84000/84000 [==============================] - 58s 686us/step - loss: 0.3365 - accuracy: 0.8771 - val_loss: 0.3399 - val_accuracy: 0.8814\n",
      "Epoch 23/27\n",
      "84000/84000 [==============================] - 58s 688us/step - loss: 0.3318 - accuracy: 0.8794 - val_loss: 0.3576 - val_accuracy: 0.8752\n",
      "Epoch 24/27\n",
      "84000/84000 [==============================] - 58s 695us/step - loss: 0.3239 - accuracy: 0.8828 - val_loss: 0.3487 - val_accuracy: 0.8780\n",
      "Epoch 25/27\n",
      "84000/84000 [==============================] - 58s 694us/step - loss: 0.3238 - accuracy: 0.8819 - val_loss: 0.3442 - val_accuracy: 0.8808\n",
      "Epoch 26/27\n",
      "84000/84000 [==============================] - 58s 691us/step - loss: 0.3203 - accuracy: 0.8832 - val_loss: 0.3572 - val_accuracy: 0.8773\n",
      "Epoch 27/27\n",
      "84000/84000 [==============================] - 58s 691us/step - loss: 0.3176 - accuracy: 0.8856 - val_loss: 0.3464 - val_accuracy: 0.8810\n"
     ]
    }
   ],
   "source": [
    "result=model_gl.fit(data, train_y, validation_split=0.3, batch_size=32, epochs = 27)"
   ]
  },
  {
   "cell_type": "code",
   "execution_count": 21,
   "metadata": {},
   "outputs": [
    {
     "data": {
      "image/png": "[encoded data removed]",
      "text/plain": [
       "<Figure size 432x288 with 1 Axes>"
      ]
     },
     "metadata": {
      "needs_background": "light"
     },
     "output_type": "display_data"
    },
    {
     "data": {
      "image/png": "[encoded data removed]",
      "text/plain": [
       "<Figure size 432x288 with 1 Axes>"
      ]
     },
     "metadata": {
      "needs_background": "light"
     },
     "output_type": "display_data"
    }
   ],
   "source": [
    "import matplotlib.pyplot as plt\n",
    "acc=result.history['accuracy']\n",
    "val_acc=result.history['val_accuracy']\n",
    "loss=result.history['loss']\n",
    "val_loss=result.history['val_loss']\n",
    "epochs=range(1,len(acc)+1)\n",
    "plt.plot(epochs,acc,label='training acc')\n",
    "plt.plot(epochs,val_acc,label='validation acc')\n",
    "plt.title('training and validation accuracy (using Glove)')\n",
    "plt.legend()\n",
    "plt.figure()\n",
    "plt.plot(epochs,loss,label='training loss')\n",
    "plt.plot(epochs,val_loss,label='validation loss')\n",
    "plt.title('training and validation loss')\n",
    "plt.legend()\n",
    "plt.show()"
   ]
  },
  {
   "cell_type": "code",
   "execution_count": 22,
   "metadata": {},
   "outputs": [
    {
     "data": {
      "text/plain": [
       "(7600, 500)"
      ]
     },
     "execution_count": 22,
     "metadata": {},
     "output_type": "execute_result"
    }
   ],
   "source": [
    "from keras.preprocessing.sequence import pad_sequences\n",
    "\n",
    "maxlen = 500\n",
    "sequences = tokenizer.texts_to_sequences(test_X)\n",
    "test_data = pad_sequences(sequences, maxlen=maxlen)\n",
    "test_data.shape"
   ]
  },
  {
   "cell_type": "code",
   "execution_count": 23,
   "metadata": {},
   "outputs": [],
   "source": [
    "predict_ygl = model_gl.predict(test_data)"
   ]
  },
  {
   "cell_type": "code",
   "execution_count": 26,
   "metadata": {},
   "outputs": [
    {
     "name": "stdout",
     "output_type": "stream",
     "text": [
      "accuracy: 0.8756579\n"
     ]
    }
   ],
   "source": [
    "with tf.compat.v1.Session() :\n",
    "    tf.argmax(predict_ygl,1).eval()\n",
    "    argm = tf.equal(tf.argmax(test_y, 1), tf.argmax(predict_ygl, 1)) #맞으면 1\n",
    "    print('accuracy:', tf.reduce_mean(tf.cast(argm, tf.float32)).eval()) #평균"
   ]
  }
 ],
 "metadata": {
  "kernelspec": {
   "display_name": "Python 3",
   "language": "python",
   "name": "python3"
  },
  "language_info": {
   "codemirror_mode": {
    "name": "ipython",
    "version": 3
   },
   "file_extension": ".py",
   "mimetype": "text/x-python",
   "name": "python",
   "nbconvert_exporter": "python",
   "pygments_lexer": "ipython3",
   "version": "3.7.7"
  }
 },
 "nbformat": 4,
 "nbformat_minor": 4
}
